{
 "cells": [
  {
   "cell_type": "markdown",
   "metadata": {},
   "source": [
    "# Title: Selecting Best Model for Given Data Set using Multiple Regression Techniques\n",
    "# Name: Umar Ahsan\n",
    "# SID: 200 353 718\n",
    "# ENEL 890AK Course Project"
   ]
  },
  {
   "cell_type": "markdown",
   "metadata": {},
   "source": [
    "# Problem Statement: The main goal of this project is to deploy currently \n",
    "# available regression techniques on selected data set ( Housing Data) to \n",
    "# generate the most accurate model for that data in order to predict price of any house."
   ]
  },
  {
   "cell_type": "markdown",
   "metadata": {},
   "source": [
    "# Steps:\n",
    "--- Implement Lasso regression using graphlab linear_regression function with different L1 penalty.\n",
    "--- Choose best L1 penalty using validation set.\n",
    "--- Implement Ridge regression using graphlab linear_regression function with different L2 penalty.\n",
    "--- Choose best L2 penalty using validation set.\n",
    "--- Implement ElasticNet regression using graphlab linear_regression function with different L1 and L2 penalty.\n",
    "--- Choose best L1 and L2 penalty using validation set.\n",
    "--- Compare performance of all three models on test set through RSS calculation\n",
    "--- Add features in the data set that are generated from existing features and add them to the data set.\n",
    "--- Repeat all three regression techniques on the new data set and compare the performance of model using RSS.\n",
    "--- Compare the results of new data set models with original data set model using RSS values.\n",
    "--- The model with minimum RSS will be the best fited model among these three regression techniques for Housing Data set."
   ]
  },
  {
   "cell_type": "code",
   "execution_count": 1,
   "metadata": {
    "collapsed": false
   },
   "outputs": [
    {
     "name": "stderr",
     "output_type": "stream",
     "text": [
      "A newer version of GraphLab Create (v2.1) is available! Your current version is v1.10.1.\n",
      "\n",
      "You can use pip to upgrade the graphlab-create package. For more information see https://dato.com/products/create/upgrade.\n"
     ]
    }
   ],
   "source": [
    "# Import Graphlab library into Notebook\n",
    "import graphlab\n",
    "# Import numpy for vector manipulation \n",
    "import numpy as np\n",
    "# Import pyplot from matplotlib in order to plot values on graph\n",
    "from matplotlib import pyplot as plt\n",
    "%matplotlib inline\n"
   ]
  },
  {
   "cell_type": "code",
   "execution_count": 2,
   "metadata": {
    "collapsed": false,
    "scrolled": true
   },
   "outputs": [
    {
     "name": "stdout",
     "output_type": "stream",
     "text": [
      "This non-commercial license of GraphLab Create for academic use is assigned to ahsan20u@uregina.ca and will expire on June 23, 2017.\n"
     ]
    },
    {
     "name": "stderr",
     "output_type": "stream",
     "text": [
      "[INFO] graphlab.cython.cy_server: GraphLab Create v1.10.1 started. Logging: C:\\Users\\Umar\\AppData\\Local\\Temp\\graphlab_server_1470618874.log.0\n"
     ]
    }
   ],
   "source": [
    "# Loading data set and storing it into sales_data\n",
    "sales_data = graphlab.SFrame('kc_house_data.gl/kc_house_data.gl')"
   ]
  },
  {
   "cell_type": "code",
   "execution_count": 3,
   "metadata": {
    "collapsed": true
   },
   "outputs": [],
   "source": [
    "# The next step is to divide the data set into training and testing subset.\n",
    "# After reading few articles, it is concluded that generally the best split between training and test subset is 80/20 i.e. \n",
    "# 90 % data should be training while 10 % should be testing.\n",
    "(training_and_validation_data, testing_data) = sales_data.random_split(.9,seed=1) # initial training/test split as discussed above.\n",
    "# Here, seed=1 is used that will act as a parameter to generate random split for the data set.\n",
    "# Since we will be using cross validation therefore we donot need to split 'training_and_validation_data' into 'training' and\n",
    "# 'validation' data seprately."
   ]
  },
  {
   "cell_type": "code",
   "execution_count": 4,
   "metadata": {
    "collapsed": true
   },
   "outputs": [],
   "source": [
    "# Defining a function to calculate Residual Sum of Squares (RSS). It basically takes difference between two inputed parameter and\n",
    "# returns output as their difference.\n",
    "def RSS_data(prediction,actual):\n",
    "    difference = actual - prediction # It takes difference between actual value and predicted value. Since, actual as well\n",
    "                                    # prediction are in SFrame therefore the difference is calculated corresponding to each entry\n",
    "    square_diff = difference * difference # We are squaring the difference in order to make them all positive\n",
    "    total_diff  = square_diff.sum() # sum up all the values using .sum() function\n",
    "    return(total_diff)\n",
    "    "
   ]
  },
  {
   "cell_type": "code",
   "execution_count": 5,
   "metadata": {
    "collapsed": false
   },
   "outputs": [
    {
     "data": {
      "text/html": [
       "<div style=\"max-height:1000px;max-width:1500px;overflow:auto;\"><table frame=\"box\" rules=\"cols\">\n",
       "    <tr>\n",
       "        <th style=\"padding-left: 1em; padding-right: 1em; text-align: center\">id</th>\n",
       "        <th style=\"padding-left: 1em; padding-right: 1em; text-align: center\">date</th>\n",
       "        <th style=\"padding-left: 1em; padding-right: 1em; text-align: center\">price</th>\n",
       "        <th style=\"padding-left: 1em; padding-right: 1em; text-align: center\">bedrooms</th>\n",
       "        <th style=\"padding-left: 1em; padding-right: 1em; text-align: center\">bathrooms</th>\n",
       "        <th style=\"padding-left: 1em; padding-right: 1em; text-align: center\">sqft_living</th>\n",
       "        <th style=\"padding-left: 1em; padding-right: 1em; text-align: center\">sqft_lot</th>\n",
       "        <th style=\"padding-left: 1em; padding-right: 1em; text-align: center\">floors</th>\n",
       "        <th style=\"padding-left: 1em; padding-right: 1em; text-align: center\">waterfront</th>\n",
       "    </tr>\n",
       "    <tr>\n",
       "        <td style=\"padding-left: 1em; padding-right: 1em; text-align: center; vertical-align: top\">7129300520</td>\n",
       "        <td style=\"padding-left: 1em; padding-right: 1em; text-align: center; vertical-align: top\">2014-10-13 00:00:00+00:00</td>\n",
       "        <td style=\"padding-left: 1em; padding-right: 1em; text-align: center; vertical-align: top\">221900.0</td>\n",
       "        <td style=\"padding-left: 1em; padding-right: 1em; text-align: center; vertical-align: top\">3.0</td>\n",
       "        <td style=\"padding-left: 1em; padding-right: 1em; text-align: center; vertical-align: top\">1.0</td>\n",
       "        <td style=\"padding-left: 1em; padding-right: 1em; text-align: center; vertical-align: top\">1180.0</td>\n",
       "        <td style=\"padding-left: 1em; padding-right: 1em; text-align: center; vertical-align: top\">5650</td>\n",
       "        <td style=\"padding-left: 1em; padding-right: 1em; text-align: center; vertical-align: top\">1</td>\n",
       "        <td style=\"padding-left: 1em; padding-right: 1em; text-align: center; vertical-align: top\">0</td>\n",
       "    </tr>\n",
       "    <tr>\n",
       "        <td style=\"padding-left: 1em; padding-right: 1em; text-align: center; vertical-align: top\">6414100192</td>\n",
       "        <td style=\"padding-left: 1em; padding-right: 1em; text-align: center; vertical-align: top\">2014-12-09 00:00:00+00:00</td>\n",
       "        <td style=\"padding-left: 1em; padding-right: 1em; text-align: center; vertical-align: top\">538000.0</td>\n",
       "        <td style=\"padding-left: 1em; padding-right: 1em; text-align: center; vertical-align: top\">3.0</td>\n",
       "        <td style=\"padding-left: 1em; padding-right: 1em; text-align: center; vertical-align: top\">2.25</td>\n",
       "        <td style=\"padding-left: 1em; padding-right: 1em; text-align: center; vertical-align: top\">2570.0</td>\n",
       "        <td style=\"padding-left: 1em; padding-right: 1em; text-align: center; vertical-align: top\">7242</td>\n",
       "        <td style=\"padding-left: 1em; padding-right: 1em; text-align: center; vertical-align: top\">2</td>\n",
       "        <td style=\"padding-left: 1em; padding-right: 1em; text-align: center; vertical-align: top\">0</td>\n",
       "    </tr>\n",
       "    <tr>\n",
       "        <td style=\"padding-left: 1em; padding-right: 1em; text-align: center; vertical-align: top\">5631500400</td>\n",
       "        <td style=\"padding-left: 1em; padding-right: 1em; text-align: center; vertical-align: top\">2015-02-25 00:00:00+00:00</td>\n",
       "        <td style=\"padding-left: 1em; padding-right: 1em; text-align: center; vertical-align: top\">180000.0</td>\n",
       "        <td style=\"padding-left: 1em; padding-right: 1em; text-align: center; vertical-align: top\">2.0</td>\n",
       "        <td style=\"padding-left: 1em; padding-right: 1em; text-align: center; vertical-align: top\">1.0</td>\n",
       "        <td style=\"padding-left: 1em; padding-right: 1em; text-align: center; vertical-align: top\">770.0</td>\n",
       "        <td style=\"padding-left: 1em; padding-right: 1em; text-align: center; vertical-align: top\">10000</td>\n",
       "        <td style=\"padding-left: 1em; padding-right: 1em; text-align: center; vertical-align: top\">1</td>\n",
       "        <td style=\"padding-left: 1em; padding-right: 1em; text-align: center; vertical-align: top\">0</td>\n",
       "    </tr>\n",
       "    <tr>\n",
       "        <td style=\"padding-left: 1em; padding-right: 1em; text-align: center; vertical-align: top\">2487200875</td>\n",
       "        <td style=\"padding-left: 1em; padding-right: 1em; text-align: center; vertical-align: top\">2014-12-09 00:00:00+00:00</td>\n",
       "        <td style=\"padding-left: 1em; padding-right: 1em; text-align: center; vertical-align: top\">604000.0</td>\n",
       "        <td style=\"padding-left: 1em; padding-right: 1em; text-align: center; vertical-align: top\">4.0</td>\n",
       "        <td style=\"padding-left: 1em; padding-right: 1em; text-align: center; vertical-align: top\">3.0</td>\n",
       "        <td style=\"padding-left: 1em; padding-right: 1em; text-align: center; vertical-align: top\">1960.0</td>\n",
       "        <td style=\"padding-left: 1em; padding-right: 1em; text-align: center; vertical-align: top\">5000</td>\n",
       "        <td style=\"padding-left: 1em; padding-right: 1em; text-align: center; vertical-align: top\">1</td>\n",
       "        <td style=\"padding-left: 1em; padding-right: 1em; text-align: center; vertical-align: top\">0</td>\n",
       "    </tr>\n",
       "    <tr>\n",
       "        <td style=\"padding-left: 1em; padding-right: 1em; text-align: center; vertical-align: top\">1954400510</td>\n",
       "        <td style=\"padding-left: 1em; padding-right: 1em; text-align: center; vertical-align: top\">2015-02-18 00:00:00+00:00</td>\n",
       "        <td style=\"padding-left: 1em; padding-right: 1em; text-align: center; vertical-align: top\">510000.0</td>\n",
       "        <td style=\"padding-left: 1em; padding-right: 1em; text-align: center; vertical-align: top\">3.0</td>\n",
       "        <td style=\"padding-left: 1em; padding-right: 1em; text-align: center; vertical-align: top\">2.0</td>\n",
       "        <td style=\"padding-left: 1em; padding-right: 1em; text-align: center; vertical-align: top\">1680.0</td>\n",
       "        <td style=\"padding-left: 1em; padding-right: 1em; text-align: center; vertical-align: top\">8080</td>\n",
       "        <td style=\"padding-left: 1em; padding-right: 1em; text-align: center; vertical-align: top\">1</td>\n",
       "        <td style=\"padding-left: 1em; padding-right: 1em; text-align: center; vertical-align: top\">0</td>\n",
       "    </tr>\n",
       "    <tr>\n",
       "        <td style=\"padding-left: 1em; padding-right: 1em; text-align: center; vertical-align: top\">7237550310</td>\n",
       "        <td style=\"padding-left: 1em; padding-right: 1em; text-align: center; vertical-align: top\">2014-05-12 00:00:00+00:00</td>\n",
       "        <td style=\"padding-left: 1em; padding-right: 1em; text-align: center; vertical-align: top\">1225000.0</td>\n",
       "        <td style=\"padding-left: 1em; padding-right: 1em; text-align: center; vertical-align: top\">4.0</td>\n",
       "        <td style=\"padding-left: 1em; padding-right: 1em; text-align: center; vertical-align: top\">4.5</td>\n",
       "        <td style=\"padding-left: 1em; padding-right: 1em; text-align: center; vertical-align: top\">5420.0</td>\n",
       "        <td style=\"padding-left: 1em; padding-right: 1em; text-align: center; vertical-align: top\">101930</td>\n",
       "        <td style=\"padding-left: 1em; padding-right: 1em; text-align: center; vertical-align: top\">1</td>\n",
       "        <td style=\"padding-left: 1em; padding-right: 1em; text-align: center; vertical-align: top\">0</td>\n",
       "    </tr>\n",
       "    <tr>\n",
       "        <td style=\"padding-left: 1em; padding-right: 1em; text-align: center; vertical-align: top\">1321400060</td>\n",
       "        <td style=\"padding-left: 1em; padding-right: 1em; text-align: center; vertical-align: top\">2014-06-27 00:00:00+00:00</td>\n",
       "        <td style=\"padding-left: 1em; padding-right: 1em; text-align: center; vertical-align: top\">257500.0</td>\n",
       "        <td style=\"padding-left: 1em; padding-right: 1em; text-align: center; vertical-align: top\">3.0</td>\n",
       "        <td style=\"padding-left: 1em; padding-right: 1em; text-align: center; vertical-align: top\">2.25</td>\n",
       "        <td style=\"padding-left: 1em; padding-right: 1em; text-align: center; vertical-align: top\">1715.0</td>\n",
       "        <td style=\"padding-left: 1em; padding-right: 1em; text-align: center; vertical-align: top\">6819</td>\n",
       "        <td style=\"padding-left: 1em; padding-right: 1em; text-align: center; vertical-align: top\">2</td>\n",
       "        <td style=\"padding-left: 1em; padding-right: 1em; text-align: center; vertical-align: top\">0</td>\n",
       "    </tr>\n",
       "    <tr>\n",
       "        <td style=\"padding-left: 1em; padding-right: 1em; text-align: center; vertical-align: top\">2008000270</td>\n",
       "        <td style=\"padding-left: 1em; padding-right: 1em; text-align: center; vertical-align: top\">2015-01-15 00:00:00+00:00</td>\n",
       "        <td style=\"padding-left: 1em; padding-right: 1em; text-align: center; vertical-align: top\">291850.0</td>\n",
       "        <td style=\"padding-left: 1em; padding-right: 1em; text-align: center; vertical-align: top\">3.0</td>\n",
       "        <td style=\"padding-left: 1em; padding-right: 1em; text-align: center; vertical-align: top\">1.5</td>\n",
       "        <td style=\"padding-left: 1em; padding-right: 1em; text-align: center; vertical-align: top\">1060.0</td>\n",
       "        <td style=\"padding-left: 1em; padding-right: 1em; text-align: center; vertical-align: top\">9711</td>\n",
       "        <td style=\"padding-left: 1em; padding-right: 1em; text-align: center; vertical-align: top\">1</td>\n",
       "        <td style=\"padding-left: 1em; padding-right: 1em; text-align: center; vertical-align: top\">0</td>\n",
       "    </tr>\n",
       "    <tr>\n",
       "        <td style=\"padding-left: 1em; padding-right: 1em; text-align: center; vertical-align: top\">2414600126</td>\n",
       "        <td style=\"padding-left: 1em; padding-right: 1em; text-align: center; vertical-align: top\">2015-04-15 00:00:00+00:00</td>\n",
       "        <td style=\"padding-left: 1em; padding-right: 1em; text-align: center; vertical-align: top\">229500.0</td>\n",
       "        <td style=\"padding-left: 1em; padding-right: 1em; text-align: center; vertical-align: top\">3.0</td>\n",
       "        <td style=\"padding-left: 1em; padding-right: 1em; text-align: center; vertical-align: top\">1.0</td>\n",
       "        <td style=\"padding-left: 1em; padding-right: 1em; text-align: center; vertical-align: top\">1780.0</td>\n",
       "        <td style=\"padding-left: 1em; padding-right: 1em; text-align: center; vertical-align: top\">7470</td>\n",
       "        <td style=\"padding-left: 1em; padding-right: 1em; text-align: center; vertical-align: top\">1</td>\n",
       "        <td style=\"padding-left: 1em; padding-right: 1em; text-align: center; vertical-align: top\">0</td>\n",
       "    </tr>\n",
       "    <tr>\n",
       "        <td style=\"padding-left: 1em; padding-right: 1em; text-align: center; vertical-align: top\">3793500160</td>\n",
       "        <td style=\"padding-left: 1em; padding-right: 1em; text-align: center; vertical-align: top\">2015-03-12 00:00:00+00:00</td>\n",
       "        <td style=\"padding-left: 1em; padding-right: 1em; text-align: center; vertical-align: top\">323000.0</td>\n",
       "        <td style=\"padding-left: 1em; padding-right: 1em; text-align: center; vertical-align: top\">3.0</td>\n",
       "        <td style=\"padding-left: 1em; padding-right: 1em; text-align: center; vertical-align: top\">2.5</td>\n",
       "        <td style=\"padding-left: 1em; padding-right: 1em; text-align: center; vertical-align: top\">1890.0</td>\n",
       "        <td style=\"padding-left: 1em; padding-right: 1em; text-align: center; vertical-align: top\">6560</td>\n",
       "        <td style=\"padding-left: 1em; padding-right: 1em; text-align: center; vertical-align: top\">2</td>\n",
       "        <td style=\"padding-left: 1em; padding-right: 1em; text-align: center; vertical-align: top\">0</td>\n",
       "    </tr>\n",
       "</table>\n",
       "<table frame=\"box\" rules=\"cols\">\n",
       "    <tr>\n",
       "        <th style=\"padding-left: 1em; padding-right: 1em; text-align: center\">view</th>\n",
       "        <th style=\"padding-left: 1em; padding-right: 1em; text-align: center\">condition</th>\n",
       "        <th style=\"padding-left: 1em; padding-right: 1em; text-align: center\">grade</th>\n",
       "        <th style=\"padding-left: 1em; padding-right: 1em; text-align: center\">sqft_above</th>\n",
       "        <th style=\"padding-left: 1em; padding-right: 1em; text-align: center\">sqft_basement</th>\n",
       "        <th style=\"padding-left: 1em; padding-right: 1em; text-align: center\">yr_built</th>\n",
       "        <th style=\"padding-left: 1em; padding-right: 1em; text-align: center\">yr_renovated</th>\n",
       "        <th style=\"padding-left: 1em; padding-right: 1em; text-align: center\">zipcode</th>\n",
       "        <th style=\"padding-left: 1em; padding-right: 1em; text-align: center\">lat</th>\n",
       "    </tr>\n",
       "    <tr>\n",
       "        <td style=\"padding-left: 1em; padding-right: 1em; text-align: center; vertical-align: top\">0</td>\n",
       "        <td style=\"padding-left: 1em; padding-right: 1em; text-align: center; vertical-align: top\">3</td>\n",
       "        <td style=\"padding-left: 1em; padding-right: 1em; text-align: center; vertical-align: top\">7</td>\n",
       "        <td style=\"padding-left: 1em; padding-right: 1em; text-align: center; vertical-align: top\">1180</td>\n",
       "        <td style=\"padding-left: 1em; padding-right: 1em; text-align: center; vertical-align: top\">0</td>\n",
       "        <td style=\"padding-left: 1em; padding-right: 1em; text-align: center; vertical-align: top\">1955</td>\n",
       "        <td style=\"padding-left: 1em; padding-right: 1em; text-align: center; vertical-align: top\">0</td>\n",
       "        <td style=\"padding-left: 1em; padding-right: 1em; text-align: center; vertical-align: top\">98178</td>\n",
       "        <td style=\"padding-left: 1em; padding-right: 1em; text-align: center; vertical-align: top\">47.51123398</td>\n",
       "    </tr>\n",
       "    <tr>\n",
       "        <td style=\"padding-left: 1em; padding-right: 1em; text-align: center; vertical-align: top\">0</td>\n",
       "        <td style=\"padding-left: 1em; padding-right: 1em; text-align: center; vertical-align: top\">3</td>\n",
       "        <td style=\"padding-left: 1em; padding-right: 1em; text-align: center; vertical-align: top\">7</td>\n",
       "        <td style=\"padding-left: 1em; padding-right: 1em; text-align: center; vertical-align: top\">2170</td>\n",
       "        <td style=\"padding-left: 1em; padding-right: 1em; text-align: center; vertical-align: top\">400</td>\n",
       "        <td style=\"padding-left: 1em; padding-right: 1em; text-align: center; vertical-align: top\">1951</td>\n",
       "        <td style=\"padding-left: 1em; padding-right: 1em; text-align: center; vertical-align: top\">1991</td>\n",
       "        <td style=\"padding-left: 1em; padding-right: 1em; text-align: center; vertical-align: top\">98125</td>\n",
       "        <td style=\"padding-left: 1em; padding-right: 1em; text-align: center; vertical-align: top\">47.72102274</td>\n",
       "    </tr>\n",
       "    <tr>\n",
       "        <td style=\"padding-left: 1em; padding-right: 1em; text-align: center; vertical-align: top\">0</td>\n",
       "        <td style=\"padding-left: 1em; padding-right: 1em; text-align: center; vertical-align: top\">3</td>\n",
       "        <td style=\"padding-left: 1em; padding-right: 1em; text-align: center; vertical-align: top\">6</td>\n",
       "        <td style=\"padding-left: 1em; padding-right: 1em; text-align: center; vertical-align: top\">770</td>\n",
       "        <td style=\"padding-left: 1em; padding-right: 1em; text-align: center; vertical-align: top\">0</td>\n",
       "        <td style=\"padding-left: 1em; padding-right: 1em; text-align: center; vertical-align: top\">1933</td>\n",
       "        <td style=\"padding-left: 1em; padding-right: 1em; text-align: center; vertical-align: top\">0</td>\n",
       "        <td style=\"padding-left: 1em; padding-right: 1em; text-align: center; vertical-align: top\">98028</td>\n",
       "        <td style=\"padding-left: 1em; padding-right: 1em; text-align: center; vertical-align: top\">47.73792661</td>\n",
       "    </tr>\n",
       "    <tr>\n",
       "        <td style=\"padding-left: 1em; padding-right: 1em; text-align: center; vertical-align: top\">0</td>\n",
       "        <td style=\"padding-left: 1em; padding-right: 1em; text-align: center; vertical-align: top\">5</td>\n",
       "        <td style=\"padding-left: 1em; padding-right: 1em; text-align: center; vertical-align: top\">7</td>\n",
       "        <td style=\"padding-left: 1em; padding-right: 1em; text-align: center; vertical-align: top\">1050</td>\n",
       "        <td style=\"padding-left: 1em; padding-right: 1em; text-align: center; vertical-align: top\">910</td>\n",
       "        <td style=\"padding-left: 1em; padding-right: 1em; text-align: center; vertical-align: top\">1965</td>\n",
       "        <td style=\"padding-left: 1em; padding-right: 1em; text-align: center; vertical-align: top\">0</td>\n",
       "        <td style=\"padding-left: 1em; padding-right: 1em; text-align: center; vertical-align: top\">98136</td>\n",
       "        <td style=\"padding-left: 1em; padding-right: 1em; text-align: center; vertical-align: top\">47.52082</td>\n",
       "    </tr>\n",
       "    <tr>\n",
       "        <td style=\"padding-left: 1em; padding-right: 1em; text-align: center; vertical-align: top\">0</td>\n",
       "        <td style=\"padding-left: 1em; padding-right: 1em; text-align: center; vertical-align: top\">3</td>\n",
       "        <td style=\"padding-left: 1em; padding-right: 1em; text-align: center; vertical-align: top\">8</td>\n",
       "        <td style=\"padding-left: 1em; padding-right: 1em; text-align: center; vertical-align: top\">1680</td>\n",
       "        <td style=\"padding-left: 1em; padding-right: 1em; text-align: center; vertical-align: top\">0</td>\n",
       "        <td style=\"padding-left: 1em; padding-right: 1em; text-align: center; vertical-align: top\">1987</td>\n",
       "        <td style=\"padding-left: 1em; padding-right: 1em; text-align: center; vertical-align: top\">0</td>\n",
       "        <td style=\"padding-left: 1em; padding-right: 1em; text-align: center; vertical-align: top\">98074</td>\n",
       "        <td style=\"padding-left: 1em; padding-right: 1em; text-align: center; vertical-align: top\">47.61681228</td>\n",
       "    </tr>\n",
       "    <tr>\n",
       "        <td style=\"padding-left: 1em; padding-right: 1em; text-align: center; vertical-align: top\">0</td>\n",
       "        <td style=\"padding-left: 1em; padding-right: 1em; text-align: center; vertical-align: top\">3</td>\n",
       "        <td style=\"padding-left: 1em; padding-right: 1em; text-align: center; vertical-align: top\">11</td>\n",
       "        <td style=\"padding-left: 1em; padding-right: 1em; text-align: center; vertical-align: top\">3890</td>\n",
       "        <td style=\"padding-left: 1em; padding-right: 1em; text-align: center; vertical-align: top\">1530</td>\n",
       "        <td style=\"padding-left: 1em; padding-right: 1em; text-align: center; vertical-align: top\">2001</td>\n",
       "        <td style=\"padding-left: 1em; padding-right: 1em; text-align: center; vertical-align: top\">0</td>\n",
       "        <td style=\"padding-left: 1em; padding-right: 1em; text-align: center; vertical-align: top\">98053</td>\n",
       "        <td style=\"padding-left: 1em; padding-right: 1em; text-align: center; vertical-align: top\">47.65611835</td>\n",
       "    </tr>\n",
       "    <tr>\n",
       "        <td style=\"padding-left: 1em; padding-right: 1em; text-align: center; vertical-align: top\">0</td>\n",
       "        <td style=\"padding-left: 1em; padding-right: 1em; text-align: center; vertical-align: top\">3</td>\n",
       "        <td style=\"padding-left: 1em; padding-right: 1em; text-align: center; vertical-align: top\">7</td>\n",
       "        <td style=\"padding-left: 1em; padding-right: 1em; text-align: center; vertical-align: top\">1715</td>\n",
       "        <td style=\"padding-left: 1em; padding-right: 1em; text-align: center; vertical-align: top\">0</td>\n",
       "        <td style=\"padding-left: 1em; padding-right: 1em; text-align: center; vertical-align: top\">1995</td>\n",
       "        <td style=\"padding-left: 1em; padding-right: 1em; text-align: center; vertical-align: top\">0</td>\n",
       "        <td style=\"padding-left: 1em; padding-right: 1em; text-align: center; vertical-align: top\">98003</td>\n",
       "        <td style=\"padding-left: 1em; padding-right: 1em; text-align: center; vertical-align: top\">47.30972002</td>\n",
       "    </tr>\n",
       "    <tr>\n",
       "        <td style=\"padding-left: 1em; padding-right: 1em; text-align: center; vertical-align: top\">0</td>\n",
       "        <td style=\"padding-left: 1em; padding-right: 1em; text-align: center; vertical-align: top\">3</td>\n",
       "        <td style=\"padding-left: 1em; padding-right: 1em; text-align: center; vertical-align: top\">7</td>\n",
       "        <td style=\"padding-left: 1em; padding-right: 1em; text-align: center; vertical-align: top\">1060</td>\n",
       "        <td style=\"padding-left: 1em; padding-right: 1em; text-align: center; vertical-align: top\">0</td>\n",
       "        <td style=\"padding-left: 1em; padding-right: 1em; text-align: center; vertical-align: top\">1963</td>\n",
       "        <td style=\"padding-left: 1em; padding-right: 1em; text-align: center; vertical-align: top\">0</td>\n",
       "        <td style=\"padding-left: 1em; padding-right: 1em; text-align: center; vertical-align: top\">98198</td>\n",
       "        <td style=\"padding-left: 1em; padding-right: 1em; text-align: center; vertical-align: top\">47.40949984</td>\n",
       "    </tr>\n",
       "    <tr>\n",
       "        <td style=\"padding-left: 1em; padding-right: 1em; text-align: center; vertical-align: top\">0</td>\n",
       "        <td style=\"padding-left: 1em; padding-right: 1em; text-align: center; vertical-align: top\">3</td>\n",
       "        <td style=\"padding-left: 1em; padding-right: 1em; text-align: center; vertical-align: top\">7</td>\n",
       "        <td style=\"padding-left: 1em; padding-right: 1em; text-align: center; vertical-align: top\">1050</td>\n",
       "        <td style=\"padding-left: 1em; padding-right: 1em; text-align: center; vertical-align: top\">730</td>\n",
       "        <td style=\"padding-left: 1em; padding-right: 1em; text-align: center; vertical-align: top\">1960</td>\n",
       "        <td style=\"padding-left: 1em; padding-right: 1em; text-align: center; vertical-align: top\">0</td>\n",
       "        <td style=\"padding-left: 1em; padding-right: 1em; text-align: center; vertical-align: top\">98146</td>\n",
       "        <td style=\"padding-left: 1em; padding-right: 1em; text-align: center; vertical-align: top\">47.51229381</td>\n",
       "    </tr>\n",
       "    <tr>\n",
       "        <td style=\"padding-left: 1em; padding-right: 1em; text-align: center; vertical-align: top\">0</td>\n",
       "        <td style=\"padding-left: 1em; padding-right: 1em; text-align: center; vertical-align: top\">3</td>\n",
       "        <td style=\"padding-left: 1em; padding-right: 1em; text-align: center; vertical-align: top\">7</td>\n",
       "        <td style=\"padding-left: 1em; padding-right: 1em; text-align: center; vertical-align: top\">1890</td>\n",
       "        <td style=\"padding-left: 1em; padding-right: 1em; text-align: center; vertical-align: top\">0</td>\n",
       "        <td style=\"padding-left: 1em; padding-right: 1em; text-align: center; vertical-align: top\">2003</td>\n",
       "        <td style=\"padding-left: 1em; padding-right: 1em; text-align: center; vertical-align: top\">0</td>\n",
       "        <td style=\"padding-left: 1em; padding-right: 1em; text-align: center; vertical-align: top\">98038</td>\n",
       "        <td style=\"padding-left: 1em; padding-right: 1em; text-align: center; vertical-align: top\">47.36840673</td>\n",
       "    </tr>\n",
       "</table>\n",
       "<table frame=\"box\" rules=\"cols\">\n",
       "    <tr>\n",
       "        <th style=\"padding-left: 1em; padding-right: 1em; text-align: center\">long</th>\n",
       "        <th style=\"padding-left: 1em; padding-right: 1em; text-align: center\">sqft_living15</th>\n",
       "        <th style=\"padding-left: 1em; padding-right: 1em; text-align: center\">sqft_lot15</th>\n",
       "    </tr>\n",
       "    <tr>\n",
       "        <td style=\"padding-left: 1em; padding-right: 1em; text-align: center; vertical-align: top\">-122.25677536</td>\n",
       "        <td style=\"padding-left: 1em; padding-right: 1em; text-align: center; vertical-align: top\">1340.0</td>\n",
       "        <td style=\"padding-left: 1em; padding-right: 1em; text-align: center; vertical-align: top\">5650.0</td>\n",
       "    </tr>\n",
       "    <tr>\n",
       "        <td style=\"padding-left: 1em; padding-right: 1em; text-align: center; vertical-align: top\">-122.3188624</td>\n",
       "        <td style=\"padding-left: 1em; padding-right: 1em; text-align: center; vertical-align: top\">1690.0</td>\n",
       "        <td style=\"padding-left: 1em; padding-right: 1em; text-align: center; vertical-align: top\">7639.0</td>\n",
       "    </tr>\n",
       "    <tr>\n",
       "        <td style=\"padding-left: 1em; padding-right: 1em; text-align: center; vertical-align: top\">-122.23319601</td>\n",
       "        <td style=\"padding-left: 1em; padding-right: 1em; text-align: center; vertical-align: top\">2720.0</td>\n",
       "        <td style=\"padding-left: 1em; padding-right: 1em; text-align: center; vertical-align: top\">8062.0</td>\n",
       "    </tr>\n",
       "    <tr>\n",
       "        <td style=\"padding-left: 1em; padding-right: 1em; text-align: center; vertical-align: top\">-122.39318505</td>\n",
       "        <td style=\"padding-left: 1em; padding-right: 1em; text-align: center; vertical-align: top\">1360.0</td>\n",
       "        <td style=\"padding-left: 1em; padding-right: 1em; text-align: center; vertical-align: top\">5000.0</td>\n",
       "    </tr>\n",
       "    <tr>\n",
       "        <td style=\"padding-left: 1em; padding-right: 1em; text-align: center; vertical-align: top\">-122.04490059</td>\n",
       "        <td style=\"padding-left: 1em; padding-right: 1em; text-align: center; vertical-align: top\">1800.0</td>\n",
       "        <td style=\"padding-left: 1em; padding-right: 1em; text-align: center; vertical-align: top\">7503.0</td>\n",
       "    </tr>\n",
       "    <tr>\n",
       "        <td style=\"padding-left: 1em; padding-right: 1em; text-align: center; vertical-align: top\">-122.00528655</td>\n",
       "        <td style=\"padding-left: 1em; padding-right: 1em; text-align: center; vertical-align: top\">4760.0</td>\n",
       "        <td style=\"padding-left: 1em; padding-right: 1em; text-align: center; vertical-align: top\">101930.0</td>\n",
       "    </tr>\n",
       "    <tr>\n",
       "        <td style=\"padding-left: 1em; padding-right: 1em; text-align: center; vertical-align: top\">-122.32704857</td>\n",
       "        <td style=\"padding-left: 1em; padding-right: 1em; text-align: center; vertical-align: top\">2238.0</td>\n",
       "        <td style=\"padding-left: 1em; padding-right: 1em; text-align: center; vertical-align: top\">6819.0</td>\n",
       "    </tr>\n",
       "    <tr>\n",
       "        <td style=\"padding-left: 1em; padding-right: 1em; text-align: center; vertical-align: top\">-122.31457273</td>\n",
       "        <td style=\"padding-left: 1em; padding-right: 1em; text-align: center; vertical-align: top\">1650.0</td>\n",
       "        <td style=\"padding-left: 1em; padding-right: 1em; text-align: center; vertical-align: top\">9711.0</td>\n",
       "    </tr>\n",
       "    <tr>\n",
       "        <td style=\"padding-left: 1em; padding-right: 1em; text-align: center; vertical-align: top\">-122.33659507</td>\n",
       "        <td style=\"padding-left: 1em; padding-right: 1em; text-align: center; vertical-align: top\">1780.0</td>\n",
       "        <td style=\"padding-left: 1em; padding-right: 1em; text-align: center; vertical-align: top\">8113.0</td>\n",
       "    </tr>\n",
       "    <tr>\n",
       "        <td style=\"padding-left: 1em; padding-right: 1em; text-align: center; vertical-align: top\">-122.0308176</td>\n",
       "        <td style=\"padding-left: 1em; padding-right: 1em; text-align: center; vertical-align: top\">2390.0</td>\n",
       "        <td style=\"padding-left: 1em; padding-right: 1em; text-align: center; vertical-align: top\">7570.0</td>\n",
       "    </tr>\n",
       "</table>\n",
       "[21613 rows x 21 columns]<br/>Note: Only the head of the SFrame is printed.<br/>You can use print_rows(num_rows=m, num_columns=n) to print more rows and columns.\n",
       "</div>"
      ],
      "text/plain": [
       "Columns:\n",
       "\tid\tstr\n",
       "\tdate\tdatetime\n",
       "\tprice\tfloat\n",
       "\tbedrooms\tfloat\n",
       "\tbathrooms\tfloat\n",
       "\tsqft_living\tfloat\n",
       "\tsqft_lot\tint\n",
       "\tfloors\tstr\n",
       "\twaterfront\tint\n",
       "\tview\tint\n",
       "\tcondition\tint\n",
       "\tgrade\tint\n",
       "\tsqft_above\tint\n",
       "\tsqft_basement\tint\n",
       "\tyr_built\tint\n",
       "\tyr_renovated\tint\n",
       "\tzipcode\tstr\n",
       "\tlat\tfloat\n",
       "\tlong\tfloat\n",
       "\tsqft_living15\tfloat\n",
       "\tsqft_lot15\tfloat\n",
       "\n",
       "Rows: 21613\n",
       "\n",
       "Data:\n",
       "+------------+---------------------------+-----------+----------+-----------+\n",
       "|     id     |            date           |   price   | bedrooms | bathrooms |\n",
       "+------------+---------------------------+-----------+----------+-----------+\n",
       "| 7129300520 | 2014-10-13 00:00:00+00:00 |  221900.0 |   3.0    |    1.0    |\n",
       "| 6414100192 | 2014-12-09 00:00:00+00:00 |  538000.0 |   3.0    |    2.25   |\n",
       "| 5631500400 | 2015-02-25 00:00:00+00:00 |  180000.0 |   2.0    |    1.0    |\n",
       "| 2487200875 | 2014-12-09 00:00:00+00:00 |  604000.0 |   4.0    |    3.0    |\n",
       "| 1954400510 | 2015-02-18 00:00:00+00:00 |  510000.0 |   3.0    |    2.0    |\n",
       "| 7237550310 | 2014-05-12 00:00:00+00:00 | 1225000.0 |   4.0    |    4.5    |\n",
       "| 1321400060 | 2014-06-27 00:00:00+00:00 |  257500.0 |   3.0    |    2.25   |\n",
       "| 2008000270 | 2015-01-15 00:00:00+00:00 |  291850.0 |   3.0    |    1.5    |\n",
       "| 2414600126 | 2015-04-15 00:00:00+00:00 |  229500.0 |   3.0    |    1.0    |\n",
       "| 3793500160 | 2015-03-12 00:00:00+00:00 |  323000.0 |   3.0    |    2.5    |\n",
       "+------------+---------------------------+-----------+----------+-----------+\n",
       "+-------------+----------+--------+------------+------+-----------+-------+------------+\n",
       "| sqft_living | sqft_lot | floors | waterfront | view | condition | grade | sqft_above |\n",
       "+-------------+----------+--------+------------+------+-----------+-------+------------+\n",
       "|    1180.0   |   5650   |   1    |     0      |  0   |     3     |   7   |    1180    |\n",
       "|    2570.0   |   7242   |   2    |     0      |  0   |     3     |   7   |    2170    |\n",
       "|    770.0    |  10000   |   1    |     0      |  0   |     3     |   6   |    770     |\n",
       "|    1960.0   |   5000   |   1    |     0      |  0   |     5     |   7   |    1050    |\n",
       "|    1680.0   |   8080   |   1    |     0      |  0   |     3     |   8   |    1680    |\n",
       "|    5420.0   |  101930  |   1    |     0      |  0   |     3     |   11  |    3890    |\n",
       "|    1715.0   |   6819   |   2    |     0      |  0   |     3     |   7   |    1715    |\n",
       "|    1060.0   |   9711   |   1    |     0      |  0   |     3     |   7   |    1060    |\n",
       "|    1780.0   |   7470   |   1    |     0      |  0   |     3     |   7   |    1050    |\n",
       "|    1890.0   |   6560   |   2    |     0      |  0   |     3     |   7   |    1890    |\n",
       "+-------------+----------+--------+------------+------+-----------+-------+------------+\n",
       "+---------------+----------+--------------+---------+-------------+\n",
       "| sqft_basement | yr_built | yr_renovated | zipcode |     lat     |\n",
       "+---------------+----------+--------------+---------+-------------+\n",
       "|       0       |   1955   |      0       |  98178  | 47.51123398 |\n",
       "|      400      |   1951   |     1991     |  98125  | 47.72102274 |\n",
       "|       0       |   1933   |      0       |  98028  | 47.73792661 |\n",
       "|      910      |   1965   |      0       |  98136  |   47.52082  |\n",
       "|       0       |   1987   |      0       |  98074  | 47.61681228 |\n",
       "|      1530     |   2001   |      0       |  98053  | 47.65611835 |\n",
       "|       0       |   1995   |      0       |  98003  | 47.30972002 |\n",
       "|       0       |   1963   |      0       |  98198  | 47.40949984 |\n",
       "|      730      |   1960   |      0       |  98146  | 47.51229381 |\n",
       "|       0       |   2003   |      0       |  98038  | 47.36840673 |\n",
       "+---------------+----------+--------------+---------+-------------+\n",
       "+---------------+---------------+-----+\n",
       "|      long     | sqft_living15 | ... |\n",
       "+---------------+---------------+-----+\n",
       "| -122.25677536 |     1340.0    | ... |\n",
       "|  -122.3188624 |     1690.0    | ... |\n",
       "| -122.23319601 |     2720.0    | ... |\n",
       "| -122.39318505 |     1360.0    | ... |\n",
       "| -122.04490059 |     1800.0    | ... |\n",
       "| -122.00528655 |     4760.0    | ... |\n",
       "| -122.32704857 |     2238.0    | ... |\n",
       "| -122.31457273 |     1650.0    | ... |\n",
       "| -122.33659507 |     1780.0    | ... |\n",
       "|  -122.0308176 |     2390.0    | ... |\n",
       "+---------------+---------------+-----+\n",
       "[21613 rows x 21 columns]\n",
       "Note: Only the head of the SFrame is printed.\n",
       "You can use print_rows(num_rows=m, num_columns=n) to print more rows and columns."
      ]
     },
     "execution_count": 5,
     "metadata": {},
     "output_type": "execute_result"
    }
   ],
   "source": [
    "# Exploring data set in order to find relevant features to be used for modeling\n",
    "sales_data"
   ]
  },
  {
   "cell_type": "code",
   "execution_count": 6,
   "metadata": {
    "collapsed": true
   },
   "outputs": [],
   "source": [
    "# Selecting all features that are present in the data set in order to use it in linear_regression function\n",
    "features_for_modeling = ['bedrooms','bathrooms',\n",
    "                        'sqft_living','sqft_lot',\n",
    "                        'floors','waterfront', 'view', \n",
    "                        'condition', 'grade','sqft_above',\n",
    "                        'sqft_basement','yr_built', 'yr_renovated',\n",
    "                        'sqft_living15', 'sqft_lot15']"
   ]
  },
  {
   "cell_type": "markdown",
   "metadata": {},
   "source": [
    "# Implementing Ridge Regression Technique"
   ]
  },
  {
   "cell_type": "code",
   "execution_count": 7,
   "metadata": {
    "collapsed": false
   },
   "outputs": [],
   "source": [
    "# This function will take following values as input:\n",
    "# K: Number of segments into which data is divided\n",
    "# L2_penalty\n",
    "# Data: The dataset\n",
    "# features_for_modeling: Include all the features that will be used for modeling\n",
    "def k_fold_cross_validation_l2(k, L2_penalty, data,features_for_modeling):\n",
    "\n",
    "    n= len(data) # Variable to calculate the length of data set\n",
    "    Total_Sum= 0 # It will store the total error and therefore initial error is zero\n",
    "    for i in xrange(k):\n",
    "        start = (n*i)/k # Start point of selected Kth frame (As described above)\n",
    "        end = (n*(i+1))/k-1 # Ending point of selected Kth frame (As described above)\n",
    "        validation_set= data[start:end+1] # That data will be used to test the predicted model\n",
    "        training_set= data[0:start].append(data[end+1:n]) # That data set will be used to train and predict the model\n",
    "        model_trained = graphlab.linear_regression.create(training_set, features= features_for_modeling,\n",
    "                                              target='price', l2_penalty=L2_penalty,l1_penalty=0,feature_rescaling= True,\n",
    "                                         validation_set=None,verbose=False) # Training of model\n",
    "        model_prediction = model_trained.predict(validation_set) # validating the model\n",
    "        l2_RSS = RSS_data(model_prediction, validation_set['price']) # Comparing predicted price from model with actual one\n",
    "        Total_Sum = Total_Sum + l2_RSS # Adding new error with existing one\n",
    "        Avg_Sum = Total_Sum/k # Averaging out the sum\n",
    "    return Avg_Sum"
   ]
  },
  {
   "cell_type": "code",
   "execution_count": 8,
   "metadata": {
    "collapsed": false
   },
   "outputs": [
    {
     "name": "stdout",
     "output_type": "stream",
     "text": [
      "The best L2 penalty is:  0.0923670857187\n",
      "The lowest RSS corresponding to best L2 penalty is:  9.0830629956e+13\n"
     ]
    },
    {
     "data": {
      "image/png": "[encoded data removed]",
      "text/plain": [
       "<matplotlib.figure.Figure at 0x39903c8>"
      ]
     },
     "metadata": {},
     "output_type": "display_data"
    }
   ],
   "source": [
    "# Using the above function to predict best model using multiple values of L2 penalty\n",
    "best_l2_penalty = 0 # Initializing\n",
    "lowest_RSS_l2 = 10e20 # Initializing \n",
    "for L2_penalty in np.logspace(-10,10, num=30): # Range of values for which L2 penalty value changes\n",
    "    error_l2 = k_fold_cross_validation_l2(10,L2_penalty,training_and_validation_data,features_for_modeling) # Using the above \n",
    "                                                                                                #function to get the error\n",
    "    if lowest_RSS_l2 > error_l2: # Checking for the lowest error\n",
    "        best_l2_penalty = L2_penalty # If the condition is true then the new best_l2_penalty is from that model\n",
    "        lowest_RSS_l2 = error_l2 # Also setting lowest RSS for that corresponding l2 penalty\n",
    "    plt.xscale('log') # Ploting all values of l2 penalty vs errors\n",
    "    plt.plot(L2_penalty,error_l2,'k.')\n",
    "# Printing the error along with the L2_penalty\n",
    "print \"The best L2 penalty is: \", best_l2_penalty\n",
    "print \"The lowest RSS corresponding to best L2 penalty is: \", lowest_RSS_l2"
   ]
  },
  {
   "cell_type": "markdown",
   "metadata": {},
   "source": [
    "# Implementing Lasso Regression Technique"
   ]
  },
  {
   "cell_type": "code",
   "execution_count": 9,
   "metadata": {
    "collapsed": true
   },
   "outputs": [],
   "source": [
    "# This function will take following values as input:\n",
    "# K: Number of segments into which data is divided\n",
    "# L1_penalty\n",
    "# Data: The dataset\n",
    "# features_for_modeling: Include all the features that will be used for modeling\n",
    "def k_fold_cross_validation_l1(k, L1_penalty, data,features_for_modeling):\n",
    "\n",
    "    n_l1= len(data) # Variable to calculate the length of data set\n",
    "    Total_Sum_l1= 0 # It will store the total error and therefore initial error is zero\n",
    "    for i in xrange(k):\n",
    "        start_l1 = (n_l1*i)/k # Start point of selected Kth frame (As described above)\n",
    "        end_l1 = (n_l1*(i+1))/k-1 # Ending point of selected Kth frame (As described above)\n",
    "        validation_set_l1= data[start_l1:end_l1+1] # That data will be used to test the predicted model\n",
    "        training_set_l1= data[0:start_l1].append(data[end_l1+1:n_l1]) # That data set will be used to train and predict the model\n",
    "        model_trained_l1 = graphlab.linear_regression.create(training_set_l1, features= features_for_modeling,\n",
    "                                              target='price', l2_penalty=0,l1_penalty=L1_penalty,\n",
    "                                         validation_set=None,verbose=False) # Training of model\n",
    "        model_prediction_l1 = model_trained_l1.predict(validation_set_l1) # validating the model\n",
    "        l1_RSS = RSS_data(model_prediction_l1, validation_set_l1['price'])\n",
    "        Total_Sum_l1 = Total_Sum_l1 + l1_RSS\n",
    "        Avg_Sum_l1 = Total_Sum_l1/k # Averaging out the sum\n",
    "    return Avg_Sum_l1"
   ]
  },
  {
   "cell_type": "code",
   "execution_count": 10,
   "metadata": {
    "collapsed": false
   },
   "outputs": [
    {
     "name": "stdout",
     "output_type": "stream",
     "text": [
      "The best L1 penalty is:  1e-10\n",
      "The lowest RSS corresponding to best L1 penalty is:  1.28749907777e+14\n"
     ]
    },
    {
     "data": {
      "image/png": "[encoded data removed]",
      "text/plain": [
       "<matplotlib.figure.Figure at 0x15d367f0>"
      ]
     },
     "metadata": {},
     "output_type": "display_data"
    }
   ],
   "source": [
    "# Using the above function to predict best model using multiple values of L1 penalty\n",
    "best_l1_penalty = 0 # Initializing\n",
    "lowest_RSS_l1 = 10e20 # Initializing\n",
    "for L1_penalty in np.logspace(-10,10, num=30): # Range of values for which L1 penalty value changes\n",
    "    error_l1 = k_fold_cross_validation_l1(10,L1_penalty,training_and_validation_data,features_for_modeling) # Using the above \n",
    "                                                                                                #function to get the error\n",
    "    if lowest_RSS_l1 > error_l1:# Checking for the lowest error\n",
    "        best_l1_penalty = L1_penalty # If the condition is true then the new best_l1_penalty is from that model\n",
    "        lowest_RSS_l1 = error_l1 # Also setting lowest RSS for that corresponding l1 penalty\n",
    "    plt.xscale('log') # Ploting all values of l2 penalty vs errors\n",
    "    plt.plot(L1_penalty,error_l1,'k.')\n",
    "# Printing the error along with the L2_penalty\n",
    "print \"The best L1 penalty is: \", best_l1_penalty\n",
    "print \"The lowest RSS corresponding to best L1 penalty is: \", lowest_RSS_l1"
   ]
  },
  {
   "cell_type": "markdown",
   "metadata": {},
   "source": [
    "# Implementing Elastic Net Regression Technique"
   ]
  },
  {
   "cell_type": "code",
   "execution_count": 11,
   "metadata": {
    "collapsed": false
   },
   "outputs": [],
   "source": [
    "# Data: The dataset\n",
    "def k_fold_cross_validation_l12(k, L12_penalty,L11_penalty,data,features_for_modeling):\n",
    "\n",
    "    n= len(data) # Variable to calculate the length of data set\n",
    "    Total_Sum_l12= 0 # It will store the total error and therefore initial error is zero\n",
    "    for i in xrange(k):\n",
    "        start_l12 = (n*i)/k # Start point of selected Kth frame (As described above)\n",
    "        end_l12 = (n*(i+1))/k-1 # Ending point of selected Kth frame (As described above)\n",
    "        validation_set_l12= data[start_l12:end_l12+1] # That data will be used to test the predicted model\n",
    "        training_set_l12= data[0:start_l12].append(data[end_l12+1:n]) # That data set will be used to train and predict the model\n",
    "        model_trained_l12 = graphlab.linear_regression.create(training_set_l12, features= features_for_modeling,\n",
    "                                              target='price', l2_penalty=L12_penalty,l1_penalty=L11_penalty,\n",
    "                                         validation_set=None,verbose=False) # Training of model\n",
    "        model_prediction_l12 = model_trained_l12.predict(validation_set_l12) # validating the model\n",
    "        l12_RSS = RSS_data(model_prediction_l12, validation_set_l12['price'])\n",
    "        Total_Sum_l12 = Total_Sum_l12 + l12_RSS\n",
    "        Avg_Sum_l12 = Total_Sum_l12/k # Averaging out the sum\n",
    "    return Avg_Sum_l12"
   ]
  },
  {
   "cell_type": "code",
   "execution_count": 12,
   "metadata": {
    "collapsed": false
   },
   "outputs": [
    {
     "name": "stdout",
     "output_type": "stream",
     "text": [
      "The best L1 penalty is:  1e-10\n",
      "The best L2 penalty is:  1e-10\n",
      "The lowest RSS corresponding to best L1/L2 penalty is:  1.28749907777e+14\n"
     ]
    },
    {
     "data": {
      "image/png": "[encoded data removed]",
      "text/plain": [
       "<matplotlib.figure.Figure at 0x15f9bb38>"
      ]
     },
     "metadata": {},
     "output_type": "display_data"
    }
   ],
   "source": [
    "# Using the above function to predict best model using multiple values of L1 penalty\n",
    "best_l12_penalty = 0 # Initializing\n",
    "lowest_RSS_l12 = 10e20 # Initializing\n",
    "for L11_penalty in np.logspace(-10,1, num=5): # Range of values for which L1 penalty value changes\n",
    "    for L12_penalty in np.logspace(-10,1, num=5): # Range of values for which L2 penalty value changes\n",
    "        error_l12 = k_fold_cross_validation_l12(10,L12_penalty,L11_penalty,training_and_validation_data,features_for_modeling) # Using\n",
    "                                                                                    # the above function to get the error\n",
    "        if lowest_RSS_l12 > error_l12: # Checking for the lowest error\n",
    "            best_l12_penalty = L12_penalty# If the condition is true then the new best_l2_penalty is from that model\n",
    "            best_l11_penalty = L11_penalty# If the condition is true then the new best_l1_penalty is from that model\n",
    "            lowest_RSS_l12 = error_l12# Also setting lowest RSS for that corresponding l1 and l2 penalty\n",
    "        # Since there are three parameters for plotting i.e. L1 Penalty, L2 Penalty, and Error therefore in order\n",
    "        # to draw them we use two different plots as shown below\n",
    "        plt.xscale('log')\n",
    "        plt.plot(L12_penalty,error_l12,'k.') # For L2 Penalty\n",
    "    plt.xscale('log')\n",
    "    plt.plot(L11_penalty,error_l12,'k.') # For L1 Penalty\n",
    "# Printing the error along with the L2_penalty\n",
    "print \"The best L1 penalty is: \", best_l11_penalty\n",
    "print \"The best L2 penalty is: \", best_l12_penalty\n",
    "print \"The lowest RSS corresponding to best L1/L2 penalty is: \", lowest_RSS_l12"
   ]
  },
  {
   "cell_type": "markdown",
   "metadata": {},
   "source": [
    "# Modeling with no regularization i.e. without any penalty"
   ]
  },
  {
   "cell_type": "code",
   "execution_count": 13,
   "metadata": {
    "collapsed": true
   },
   "outputs": [],
   "source": [
    "# Data: The dataset\n",
    "def k_fold_cross_validation_no_penalty(k, no_penalty, data,features_for_modeling):\n",
    "\n",
    "    n= len(data) # Variable to calculate the length of data set\n",
    "    Total_Sum_no= 0 # It will store the total error and therefore initial error is zero\n",
    "    for i in xrange(k):\n",
    "        start_no = (n*i)/k # Start point of selected Kth frame (As described above)\n",
    "        end_no = (n*(i+1))/k-1 # Ending point of selected Kth frame (As described above)\n",
    "        validation_set_no= data[start_no:end_no+1] # That data will be used to test the predicted model\n",
    "        training_set_no= data[0:start_no].append(data[end_no+1:n]) # That data set will be used to train and predict the model\n",
    "        model_trained_no = graphlab.linear_regression.create(training_set_no, features= features_for_modeling,\n",
    "                                              target='price', l2_penalty=0,l1_penalty=0,\n",
    "                                         validation_set=None,verbose=False) # Training of model\n",
    "        model_prediction_no = model_trained_no.predict(validation_set_no) # validating the model\n",
    "        RSS_no = RSS_data(model_prediction_no, validation_set_no['price'])\n",
    "        Total_Sum_no = Total_Sum_no + RSS_no\n",
    "        Avg_Sum_no = Total_Sum_no/k # Averaging out the sum\n",
    "    return Avg_Sum_no"
   ]
  },
  {
   "cell_type": "code",
   "execution_count": 14,
   "metadata": {
    "collapsed": false
   },
   "outputs": [
    {
     "name": "stdout",
     "output_type": "stream",
     "text": [
      "The value of no penalty is:  0\n",
      "RSS value corresponding to no penalty is:  9.08373912816e+13\n"
     ]
    }
   ],
   "source": [
    "best_no_penalty = 0 # Setting best_no_penalty variable to be 0\n",
    "lowest_RSS_no = 10e20 # Initializing\n",
    "error_no = k_fold_cross_validation_no_penalty(10,0,training_and_validation_data,features_for_modeling) # Using the above function \n",
    "                                                                                                #to get the error\n",
    "lowest_RSS_no = error_no # The error of the model \n",
    "print \"The value of no penalty is: \", best_no_penalty\n",
    "print \"RSS value corresponding to no penalty is: \", lowest_RSS_no"
   ]
  },
  {
   "cell_type": "code",
   "execution_count": 15,
   "metadata": {
    "collapsed": false
   },
   "outputs": [
    {
     "name": "stdout",
     "output_type": "stream",
     "text": [
      "Best L2 Penalty:  0.0923670857187\n",
      "Error corresponding to best L2 penalty:  9.0830629956e+13\n",
      "Best L1 Penalty:  1e-10\n",
      "Error corresponding to best L1 penalty:  1.28749907777e+14\n",
      "Best L1 Penalty and L2 penalty respectively:  1e-10 1e-10\n",
      "Error corresponding to best L1 and L2 penalty:  1.28749907777e+14\n",
      "Value of No penalty:  0\n",
      "Error corresponding to no penalty is:  9.08373912816e+13\n"
     ]
    }
   ],
   "source": [
    "print \"Best L2 Penalty: \", best_l2_penalty\n",
    "print \"Error corresponding to best L2 penalty: \", lowest_RSS_l2\n",
    "print \"Best L1 Penalty: \", best_l1_penalty\n",
    "print \"Error corresponding to best L1 penalty: \", lowest_RSS_l1\n",
    "print \"Best L1 Penalty and L2 penalty respectively: \", best_l11_penalty, best_l12_penalty\n",
    "print \"Error corresponding to best L1 and L2 penalty: \", lowest_RSS_l12\n",
    "print \"Value of No penalty: \", best_no_penalty\n",
    "print \"Error corresponding to no penalty is: \", lowest_RSS_no"
   ]
  },
  {
   "cell_type": "markdown",
   "metadata": {},
   "source": [
    "# Testing the Dataset\n",
    "### Now the next step is to test the dataset using testing data corresponding to best ridge, lasso and elasticnet \n",
    "### model and check which model can most accurately predict the dataset. "
   ]
  },
  {
   "cell_type": "code",
   "execution_count": 16,
   "metadata": {
    "collapsed": false
   },
   "outputs": [
    {
     "name": "stdout",
     "output_type": "stream",
     "text": [
      "RSS value for testing data corresponding to best L2 Penalty:  1.03138268068e+14\n",
      "RSS value for testing data corresponding to best L1 Penalty:  1.12975857254e+14\n",
      "RSS value for testing data corresponding to best L1,L2 Penalty:  1.48515271857e+14\n",
      "RSS value for testing data corresponding to no Penalty:  1.48515271857e+14\n"
     ]
    }
   ],
   "source": [
    "# Ridge Regression\n",
    "# Here we set value of L2 penalty corresponding to best value that we calculated above\n",
    "model_trained_test_l2 = graphlab.linear_regression.create(training_and_validation_data, features= features_for_modeling ,\n",
    "                                             target='price', l2_penalty= best_l2_penalty,l1_penalty=0,feature_rescaling= True,\n",
    "                                        validation_set=None,verbose=False) # Training of model\n",
    "model_trained_l2 = model_trained_test_l2.predict(testing_data) # validating the model\n",
    "RSS_trained_l2 = RSS_data(model_trained_l2, testing_data['price']) # Comparing the values\n",
    "print \"RSS value for testing data corresponding to best L2 Penalty: \", RSS_trained_l2\n",
    "\n",
    "# Lasso Regression\n",
    "# Here we set value of L1 penalty corresponding to best value that we calculated above\n",
    "model_trained_test_l1 = graphlab.linear_regression.create(training_and_validation_data, features= features_for_modeling ,\n",
    "                                             target='price', l2_penalty=0,l1_penalty=best_l2_penalty,max_iterations=100,\n",
    "                                        validation_set=None,verbose=False) # Training of model\n",
    "model_trained_l1 = model_trained_test_l1.predict(testing_data) # validating the model\n",
    "RSS_trained_l1 = RSS_data(model_trained_l1, testing_data['price'])  # Comparing the values\n",
    "print \"RSS value for testing data corresponding to best L1 Penalty: \", RSS_trained_l1\n",
    "\n",
    "# ElasticNet Regression\n",
    "# Here we set value of L1 penalty corresponding to best value that we calculated above\n",
    "model_trained_test_l12 = graphlab.linear_regression.create(training_and_validation_data, features= features_for_modeling ,\n",
    "                                             target='price', l2_penalty=best_l12_penalty,l1_penalty=best_l11_penalty,\n",
    "                                        validation_set=None,verbose=False) # Training of model\n",
    "model_trained_l12 = model_trained_test_l12.predict(testing_data) # validating the model\n",
    "RSS_trained_l12 = RSS_data(model_trained_l12, testing_data['price']) # Comparing the values\n",
    "print \"RSS value for testing data corresponding to best L1,L2 Penalty: \", RSS_trained_l12\n",
    "\n",
    "# No Regularization\n",
    "# Here we set value of L1 and L2 penalty to be zero \n",
    "model_trained_test_no = graphlab.linear_regression.create(training_and_validation_data, features= features_for_modeling ,\n",
    "                                             target='price', l2_penalty=0,l1_penalty=0,max_iterations=100,feature_rescaling= True,\n",
    "                                        validation_set=None,verbose=False) # Training of model\n",
    "model_trained_no = model_trained_test_no.predict(testing_data) # validating the model\n",
    "RSS_trained_no = RSS_data(model_trained_no, testing_data['price'])  # Comparing the values\n",
    "print \"RSS value for testing data corresponding to no Penalty: \", RSS_trained_l12"
   ]
  },
  {
   "cell_type": "markdown",
   "metadata": {
    "collapsed": true
   },
   "source": [
    "# Adding Features in the data"
   ]
  },
  {
   "cell_type": "markdown",
   "metadata": {},
   "source": [
    "Since there are few features in the given data therefore we will add few more features from the existing features in order\n",
    "to increase value of those features that are important in decision making while buyig/selling the house.\n",
    "We will add following features from existing features:\n",
    "sqft_living_sqrt from Sqft_living by taking its square root\n",
    "sqft_lot_sqrt from sqft_lot by taking its square root\n",
    "sq_floors from floors by squaring it\n",
    "sq_bedrooms from bedrooms\n",
    "sq_sqft_basement from sqft_basement by squaring it. \n",
    "Similarly muliple other features are added in it in order to best fit the model"
   ]
  },
  {
   "cell_type": "code",
   "execution_count": 17,
   "metadata": {
    "collapsed": false
   },
   "outputs": [],
   "source": [
    "from math import log, sqrt # Importing log and sqrt from the math library\n",
    "# Here were are adding features to data set by either squaring or taking square root of existing features\n",
    "sales_data['sqft_living_sqrt'] = sales_data['sqft_living'].apply(sqrt)\n",
    "sales_data['sqft_lot_sqrt'] = sales_data['sqft_lot'].apply(sqrt)\n",
    "sales_data['sqft_living15_sqrt'] = sales_data['sqft_living15'].apply(sqrt)\n",
    "sales_data['sqft_lot15_sqrt'] = sales_data['sqft_lot15'].apply(sqrt)\n",
    "sales_data['sqft_above_sqrt'] = sales_data['sqft_above'].apply(sqrt)\n",
    "sales_data['sq_condition'] = sales_data['condition']* sales_data['condition']\n",
    "# Since, 'floors' is defined as type string, \n",
    "# so we'll convert that column to float, before creating a new feature from it.\n",
    "sales_data['floors'] = sales_data['floors'].astype(float) \n",
    "sales_data['sq_floors'] = sales_data['floors']*sales_data['floors']\n",
    "sales_data['sq_yr_renovated'] = sales_data['yr_renovated']*sales_data['yr_renovated']\n",
    "sales_data['sq_yr_built'] = sales_data['yr_built']* sales_data['yr_built']\n",
    "sales_data['sq_bedrooms'] = sales_data['bedrooms']*sales_data['bedrooms']\n",
    "sales_data['cb_bedrooms'] = sales_data['bedrooms']*sales_data['bedrooms']*sales_data['bedrooms'].apply(sqrt)\n",
    "sales_data['sq_bathrooms'] = sales_data['bathrooms']*sales_data['bathrooms']\n",
    "sales_data['cb_bathrooms'] = sales_data['bathrooms']*sales_data['bathrooms']*sales_data['bathrooms']\n",
    "sales_data['sqrt_sqft_basement'] = sales_data['sqft_basement'].apply(sqrt)"
   ]
  },
  {
   "cell_type": "code",
   "execution_count": 18,
   "metadata": {
    "collapsed": true
   },
   "outputs": [],
   "source": [
    "new_all_features= ['bedrooms','bathrooms',\n",
    "                        'sqft_living','sqft_lot',\n",
    "                        'floors','waterfront', 'view', \n",
    "                        'condition', 'grade','sqft_above', 'sq_condition','sqft_above_sqrt',\n",
    "                        'sqft_basement','yr_built', 'yr_renovated',\n",
    "                        'sqft_living15', 'sqft_lot15', 'sq_floors', 'sq_yr_renovated',\n",
    "                         'sqft_living15_sqrt','sqft_living_sqrt','sqft_lot_sqrt',\n",
    "                        'sq_bathrooms','sq_bedrooms','sqrt_sqft_basement', 'cb_bedrooms']"
   ]
  },
  {
   "cell_type": "markdown",
   "metadata": {},
   "source": [
    "# Generating New Training/Validation and Testing data with added features"
   ]
  },
  {
   "cell_type": "code",
   "execution_count": 19,
   "metadata": {
    "collapsed": true
   },
   "outputs": [],
   "source": [
    "# The next step is to divide the data set into training and testing subset.\n",
    "# After reading few articles, it is concluded that generally the best split between training and test subset is 80/20 i.e. \n",
    "# 90 % data should be training while 10 % should be testing.\n",
    "(training_and_validation_data_fe, testing_data_fe) = sales_data.random_split(.9,seed=1) # initial training/test split\n",
    "# as discussed above.\n",
    "# Here, seed=1 is used that will act as a parameter to generate random split for the data set.\n",
    "# Since we will be using cross validation therefore we donot need to split 'training_and_validation_data' into 'training' and\n",
    "# 'validation' data seprately."
   ]
  },
  {
   "cell_type": "markdown",
   "metadata": {},
   "source": [
    "# Ridge Regression with added Features"
   ]
  },
  {
   "cell_type": "code",
   "execution_count": 20,
   "metadata": {
    "collapsed": false
   },
   "outputs": [
    {
     "name": "stdout",
     "output_type": "stream",
     "text": [
      "The best L2 penalty with added features is:  0.0188739182214\n",
      "The lowest RSS with added features corresponding to best L2 penalty is:  8.09215852421e+13\n"
     ]
    },
    {
     "data": {
      "image/png": "[encoded data removed]",
      "text/plain": [
       "<matplotlib.figure.Figure at 0x2cb7a470>"
      ]
     },
     "metadata": {},
     "output_type": "display_data"
    }
   ],
   "source": [
    "# Using the function to predict best model using multiple values of L2 penalty\n",
    "best_l2_penalty = 0 # Initializing\n",
    "lowest_RSS_l2 = 10e20 # Initializing \n",
    "for L2_penalty in np.logspace(-10,10, num=30): # Range of values for which L2 penalty value changes\n",
    "    error_l2 = k_fold_cross_validation_l2(10,L2_penalty,training_and_validation_data_fe,new_all_features) # Using the above \n",
    "                                                                                                #function to get the error\n",
    "    if lowest_RSS_l2 > error_l2: # Checking for the lowest error\n",
    "        best_l2_penalty = L2_penalty # If the condition is true then the new best_l2_penalty is from that model\n",
    "        lowest_RSS_l2 = error_l2 # Also setting lowest RSS for that corresponding l2 penalty\n",
    "    plt.xscale('log') # Ploting all values of l2 penalty vs errors\n",
    "    plt.plot(L2_penalty,error_l2,'k.')\n",
    "# Printing the error along with the L2_penalty\n",
    "print \"The best L2 penalty with added features is: \", best_l2_penalty\n",
    "print \"The lowest RSS with added features corresponding to best L2 penalty is: \", lowest_RSS_l2"
   ]
  },
  {
   "cell_type": "markdown",
   "metadata": {},
   "source": [
    "# Lasso Regression with Added Features"
   ]
  },
  {
   "cell_type": "code",
   "execution_count": 21,
   "metadata": {
    "collapsed": false
   },
   "outputs": [
    {
     "name": "stdout",
     "output_type": "stream",
     "text": [
      "The best L1 penalty with added features is:  1e-10\n",
      "The lowest RSS with added features corresponding to best L1 penalty is:  1.33823131288e+14\n"
     ]
    },
    {
     "data": {
      "image/png": "[encoded data removed]",
      "text/plain": [
       "<matplotlib.figure.Figure at 0x159cf668>"
      ]
     },
     "metadata": {},
     "output_type": "display_data"
    }
   ],
   "source": [
    "# Using the function to predict best model using multiple values of L1 penalty\n",
    "best_l1_penalty = 0 # Initializing\n",
    "lowest_RSS_l1 = 10e20 # Initializing\n",
    "for L1_penalty in np.logspace(-10,10, num=30): # Range of values for which L1 penalty value changes\n",
    "    error_l1 = k_fold_cross_validation_l1(10,L1_penalty,training_and_validation_data_fe,new_all_features) # Using the above \n",
    "                                                                                                #function to get the error\n",
    "    if lowest_RSS_l1 > error_l1:# Checking for the lowest error\n",
    "        best_l1_penalty = L1_penalty # If the condition is true then the new best_l1_penalty is from that model\n",
    "        lowest_RSS_l1 = error_l1 # Also setting lowest RSS for that corresponding l1 penalty\n",
    "    plt.xscale('log') # Ploting all values of l2 penalty vs errors\n",
    "    plt.plot(L1_penalty,error_l1,'k.')\n",
    "# Printing the error along with the L2_penalty\n",
    "print \"The best L1 penalty with added features is: \", best_l1_penalty\n",
    "print \"The lowest RSS with added features corresponding to best L1 penalty is: \", lowest_RSS_l1"
   ]
  },
  {
   "cell_type": "markdown",
   "metadata": {},
   "source": [
    "# ElasticNet Regression with Added Features"
   ]
  },
  {
   "cell_type": "code",
   "execution_count": 22,
   "metadata": {
    "collapsed": false
   },
   "outputs": [
    {
     "name": "stdout",
     "output_type": "stream",
     "text": [
      "The best L1 penalty with Added Features is:  1e-10\n",
      "The best L2 penalty with Added Features is:  1e-10\n",
      "The lowest RSS with Added Features corresponding to best L1/L2 penalty is:  1.33823131288e+14\n"
     ]
    },
    {
     "data": {
      "image/png": "[encoded data removed]",
      "text/plain": [
       "<matplotlib.figure.Figure at 0x15bb4160>"
      ]
     },
     "metadata": {},
     "output_type": "display_data"
    }
   ],
   "source": [
    "# Using the function to predict best model using multiple values of L1 penalty\n",
    "best_l12_penalty = 0 # Initializing\n",
    "lowest_RSS_l12 = 10e20 # Initializing\n",
    "for L11_penalty in np.logspace(-10,1, num=5): # Range of values for which L1 penalty value changes\n",
    "    for L12_penalty in np.logspace(-10,1, num=5): # Range of values for which L2 penalty value changes\n",
    "        error_l12 = k_fold_cross_validation_l12(10,L12_penalty,L11_penalty,training_and_validation_data_fe,new_all_features) # Using\n",
    "                                                                                    # the above function to get the error\n",
    "        if lowest_RSS_l12 > error_l12: # Checking for the lowest error\n",
    "            best_l12_penalty = L12_penalty# If the condition is true then the new best_l2_penalty is from that model\n",
    "            best_l11_penalty = L11_penalty# If the condition is true then the new best_l1_penalty is from that model\n",
    "            lowest_RSS_l12 = error_l12# Also setting lowest RSS for that corresponding l1 and l2 penalty\n",
    "        # Since there are three parameters for plotting i.e. L1 Penalty, L2 Penalty, and Error therefore in order\n",
    "        # to draw them we use two different plots as shown below\n",
    "        plt.xscale('log')\n",
    "        plt.plot(L12_penalty,error_l12,'k.') # For L2 Penalty\n",
    "    plt.xscale('log')\n",
    "    plt.plot(L11_penalty,error_l12,'k.') # For L1 Penalty\n",
    "# Printing the error along with the L2_penalty\n",
    "print \"The best L1 penalty with Added Features is: \", best_l11_penalty\n",
    "print \"The best L2 penalty with Added Features is: \", best_l12_penalty\n",
    "print \"The lowest RSS with Added Features corresponding to best L1/L2 penalty is: \", lowest_RSS_l12"
   ]
  },
  {
   "cell_type": "markdown",
   "metadata": {},
   "source": [
    "# Modeling added features with no regularization i.e. without any penalty"
   ]
  },
  {
   "cell_type": "code",
   "execution_count": 23,
   "metadata": {
    "collapsed": false
   },
   "outputs": [
    {
     "name": "stdout",
     "output_type": "stream",
     "text": [
      "The value of no penalty with added features is:  0\n",
      "RSS with added features corresponding to no penalty is:  8.09288926736e+13\n"
     ]
    }
   ],
   "source": [
    "best_no_penalty = 0 # Setting best_no_penalty variable to be 0\n",
    "lowest_RSS_no = 10e20 # Initializing\n",
    "error_no = k_fold_cross_validation_no_penalty(10,0,training_and_validation_data_fe,new_all_features) # Using the above function \n",
    "                                                                                                #to get the error\n",
    "lowest_RSS_no = error_no # The error of the model \n",
    "print \"The value of no penalty with added features is: \", best_no_penalty\n",
    "print \"RSS with added features corresponding to no penalty is: \", lowest_RSS_no"
   ]
  },
  {
   "cell_type": "code",
   "execution_count": 24,
   "metadata": {
    "collapsed": false
   },
   "outputs": [
    {
     "name": "stdout",
     "output_type": "stream",
     "text": [
      "Best L2 Penalty with added features:  0.0188739182214\n",
      "Error with added features corresponding to best L2 penalty:  8.09215852421e+13\n",
      "Best L1 Penalty with added features:  1e-10\n",
      "Error with added features corresponding to best L1 penalty:  1.33823131288e+14\n",
      "Best L1 Penalty and L2 penalty respectively with added features:  1e-10 1e-10\n",
      "Error with added features corresponding to best L1 and L2 penalty:  1.33823131288e+14\n",
      "Value of No penaltywith added features:  0\n",
      "Error with added features corresponding to no penalty is:  8.09288926736e+13\n"
     ]
    }
   ],
   "source": [
    "print \"Best L2 Penalty with added features: \", best_l2_penalty\n",
    "print \"Error with added features corresponding to best L2 penalty: \", lowest_RSS_l2\n",
    "print \"Best L1 Penalty with added features: \", best_l1_penalty\n",
    "print \"Error with added features corresponding to best L1 penalty: \", lowest_RSS_l1\n",
    "print \"Best L1 Penalty and L2 penalty respectively with added features: \", best_l11_penalty, best_l12_penalty\n",
    "print \"Error with added features corresponding to best L1 and L2 penalty: \", lowest_RSS_l12\n",
    "print \"Value of No penaltywith added features: \", best_no_penalty\n",
    "print \"Error with added features corresponding to no penalty is: \", lowest_RSS_no"
   ]
  },
  {
   "cell_type": "markdown",
   "metadata": {},
   "source": [
    "# Testing the Dataset with added features\n",
    "### Now the next step is to test the dataset using testing data corresponding to best ridge, lasso and elasticnet\n",
    "### model and check which model can most accurately predict the dataset with added features."
   ]
  },
  {
   "cell_type": "code",
   "execution_count": 25,
   "metadata": {
    "collapsed": false
   },
   "outputs": [
    {
     "name": "stdout",
     "output_type": "stream",
     "text": [
      "RSS value for testing data with added features corresponding to best L2 Penalty:  9.67981193121e+13\n",
      "RSS value for testing data with added features corresponding to best L1 Penalty:  1.14035730071e+14\n",
      "RSS value for testing data with added features corresponding to best L1,L2 Penalty:  1.55065316576e+14\n",
      "RSS value for testing data with added features corresponding to no Penalty:  1.55065316576e+14\n"
     ]
    }
   ],
   "source": [
    "# Ridge Regression\n",
    "# Here we set value of L2 penalty corresponding to best value that we calculated above\n",
    "model_trained_test_l2 = graphlab.linear_regression.create(training_and_validation_data_fe, features= new_all_features,\n",
    "                                             target='price', l2_penalty= best_l2_penalty,l1_penalty=0,feature_rescaling= True,\n",
    "                                        validation_set=None,verbose=False) # Training of model\n",
    "model_trained_l2 = model_trained_test_l2.predict(testing_data_fe) # validating the model\n",
    "RSS_trained_l2 = RSS_data(model_trained_l2, testing_data_fe['price']) # Comparing the values\n",
    "print \"RSS value for testing data with added features corresponding to best L2 Penalty: \", RSS_trained_l2\n",
    "\n",
    "# Lasso Regression\n",
    "# Here we set value of L1 penalty corresponding to best value that we calculated above\n",
    "model_trained_test_l1 = graphlab.linear_regression.create(training_and_validation_data_fe, features= new_all_features,\n",
    "                                             target='price', l2_penalty=0,l1_penalty=best_l2_penalty,max_iterations=100,\n",
    "                                        validation_set=None,verbose=False) # Training of model\n",
    "model_trained_l1 = model_trained_test_l1.predict(testing_data_fe) # validating the model\n",
    "RSS_trained_l1 = RSS_data(model_trained_l1, testing_data_fe['price'])  # Comparing the values\n",
    "print \"RSS value for testing data with added features corresponding to best L1 Penalty: \", RSS_trained_l1\n",
    "\n",
    "# ElasticNet Regression\n",
    "# Here we set value of L1 penalty corresponding to best value that we calculated above\n",
    "model_trained_test_l12 = graphlab.linear_regression.create(training_and_validation_data_fe, features= new_all_features,\n",
    "                                             target='price', l2_penalty=best_l12_penalty,l1_penalty=best_l11_penalty,\n",
    "                                        validation_set=None,verbose=False) # Training of model\n",
    "model_trained_l12 = model_trained_test_l12.predict(testing_data_fe) # validating the model\n",
    "RSS_trained_l12 = RSS_data(model_trained_l12, testing_data_fe['price']) # Comparing the values\n",
    "print \"RSS value for testing data with added features corresponding to best L1,L2 Penalty: \", RSS_trained_l12\n",
    "\n",
    "# No Regularization\n",
    "# Here we set value of L1 and L2 penalty to be zero \n",
    "model_trained_test_no = graphlab.linear_regression.create(training_and_validation_data_fe, features= new_all_features,\n",
    "                                             target='price', l2_penalty=0,l1_penalty=0,max_iterations=100,feature_rescaling= True,\n",
    "                                        validation_set=None,verbose=False) # Training of model\n",
    "model_trained_no = model_trained_test_no.predict(testing_data_fe) # validating the model\n",
    "RSS_trained_no = RSS_data(model_trained_no, testing_data_fe['price'])  # Comparing the values\n",
    "print \"RSS value for testing data with added features corresponding to no Penalty: \", RSS_trained_l12"
   ]
  },
  {
   "cell_type": "code",
   "execution_count": null,
   "metadata": {
    "collapsed": true
   },
   "outputs": [],
   "source": []
  }
 ],
 "metadata": {
  "kernelspec": {
   "display_name": "Python 2",
   "language": "python",
   "name": "python2"
  },
  "language_info": {
   "codemirror_mode": {
    "name": "ipython",
    "version": 2
   },
   "file_extension": ".py",
   "mimetype": "text/x-python",
   "name": "python",
   "nbconvert_exporter": "python",
   "pygments_lexer": "ipython2",
   "version": "2.7.11"
  }
 },
 "nbformat": 4,
 "nbformat_minor": 0
}
